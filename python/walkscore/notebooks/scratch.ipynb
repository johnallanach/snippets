{
 "cells": [
  {
   "cell_type": "code",
   "execution_count": 1,
   "metadata": {},
   "outputs": [],
   "source": [
    "import urllib\n",
    "import requests\n",
    "\n",
    "WALKSCORE_API        = '04fddfaa38b9f6c957e2c1c950ab2524'"
   ]
  },
  {
   "cell_type": "code",
   "execution_count": 2,
   "metadata": {},
   "outputs": [
    {
     "name": "stdout",
     "output_type": "stream",
     "text": [
      "202%20Rickson%20Avenue%2C%20Guelph\n"
     ]
    }
   ],
   "source": [
    "address_to_fetch = urllib.parse.quote('202 Rickson Avenue, Guelph')\n",
    "print(address_to_fetch)"
   ]
  },
  {
   "cell_type": "code",
   "execution_count": 3,
   "metadata": {},
   "outputs": [],
   "source": [
    "url = 'https://nominatim.openstreetmap.org/search/' + address_to_fetch +'?format=json'\n",
    "\n",
    "response = requests.get(url).json()\n",
    "lat = response[0][\"lat\"]\n",
    "lon = response[0][\"lon\"]\n"
   ]
  },
  {
   "cell_type": "code",
   "execution_count": 5,
   "metadata": {},
   "outputs": [],
   "source": [
    "data_url = 'https://api.walkscore.com/score?format=json&address=' + address_to_fetch + '&lat=' + lat + '&lon=' + lon + '&transit=1&bike=1&wsapikey=' + WALKSCORE_API\n"
   ]
  },
  {
   "cell_type": "code",
   "execution_count": 6,
   "metadata": {},
   "outputs": [],
   "source": [
    "res = requests.get(url=data_url)\n"
   ]
  },
  {
   "cell_type": "code",
   "execution_count": 7,
   "metadata": {},
   "outputs": [
    {
     "name": "stdout",
     "output_type": "stream",
     "text": [
      "{'status': 1, 'walkscore': 26, 'description': 'Car-Dependent', 'updated': '2021-05-27 02:46:45.449085', 'logo_url': 'https://cdn.walk.sc/images/api-logo.png', 'more_info_icon': 'https://cdn.walk.sc/images/api-more-info.gif', 'more_info_link': 'https://www.redfin.com/how-walk-score-works', 'ws_link': 'https://www.walkscore.com/score/202-Rickson-Avenue-Guelph/lat=43.512443/lng=-80.209961/?utm_source=https://johnallanach.github.io&utm_medium=ws_api&utm_campaign=ws_api', 'help_link': 'https://www.redfin.com/how-walk-score-works', 'snapped_lat': 43.512, 'snapped_lon': -80.2095, 'transit': {'score': None, 'description': None, 'summary': None}, 'bike': {'score': 63, 'description': 'Bikeable'}}\n"
     ]
    }
   ],
   "source": [
    "response_data = res.json()\n",
    "print(response_data)\n"
   ]
  },
  {
   "cell_type": "code",
   "execution_count": 8,
   "metadata": {},
   "outputs": [
    {
     "name": "stdout",
     "output_type": "stream",
     "text": [
      "26\n",
      "None\n",
      "63\n"
     ]
    }
   ],
   "source": [
    "walkscore = response_data[\"walkscore\"]\n",
    "transitscore = response_data[\"transit\"]['score']\n",
    "bikescore = response_data[\"bike\"]['score']\n",
    "print(walkscore)\n",
    "print(transitscore)\n",
    "print(bikescore)"
   ]
  },
  {
   "cell_type": "code",
   "execution_count": 9,
   "metadata": {},
   "outputs": [
    {
     "name": "stdout",
     "output_type": "stream",
     "text": [
      "1\n"
     ]
    }
   ],
   "source": [
    "status = response_data[\"status\"]\n",
    "print(status)"
   ]
  },
  {
   "cell_type": "code",
   "execution_count": null,
   "metadata": {},
   "outputs": [],
   "source": [
    "import csv, sqlite3\n",
    "\n",
    "guelph_addresses = []\n",
    "working_directory = os.getcwd()\n",
    "file_path = r'C:\\Users\\Shane\\OneDrive\\Documents\\projects\\walkscore\\data\\guelphaddresses.csv'\n",
    "with open(file_path, mode='r', encoding='utf-8') as addresses:\n",
    "    readaddresses = csv.reader(addresses)\n",
    "    next(readaddresses, None)\n",
    "    for row in readaddresses:\n",
    "        guelph_addresses.append(row)\n",
    "\n",
    "con = sqlite3.connect(\"guelphaddresses.db\") # change to 'sqlite:///your_filename.db'\n",
    "cur = con.cursor()\n",
    "cur.execute(\"CREATE TABLE addresses (address);\") # use your column names here\n",
    "cur.executemany(\"INSERT INTO addresses (address) VALUES (?);\", guelph_addresses)\n",
    "con.commit()\n",
    "con.close()"
   ]
  },
  {
   "cell_type": "code",
   "execution_count": 26,
   "metadata": {},
   "outputs": [],
   "source": [
    "import sqlite3\n",
    "\n",
    "file_path = r'C:\\Users\\Shane\\OneDrive\\Documents\\projects\\walkscore\\data\\guelphaddresses.db'\n",
    "con = sqlite3.connect(file_path)\n",
    "cur = con.cursor()\n"
   ]
  },
  {
   "cell_type": "code",
   "execution_count": 27,
   "metadata": {},
   "outputs": [
    {
     "ename": "OperationalError",
     "evalue": "database is locked",
     "output_type": "error",
     "traceback": [
      "\u001b[1;31m---------------------------------------------------------------------------\u001b[0m",
      "\u001b[1;31mOperationalError\u001b[0m                          Traceback (most recent call last)",
      "\u001b[1;32m<ipython-input-27-70598751efcb>\u001b[0m in \u001b[0;36m<module>\u001b[1;34m\u001b[0m\n\u001b[0;32m      6\u001b[0m \u001b[1;32mfor\u001b[0m \u001b[0mrow\u001b[0m \u001b[1;32min\u001b[0m \u001b[0mtable\u001b[0m\u001b[1;33m:\u001b[0m\u001b[1;33m\u001b[0m\u001b[1;33m\u001b[0m\u001b[0m\n\u001b[0;32m      7\u001b[0m     \u001b[1;32mwhile\u001b[0m \u001b[0mcount\u001b[0m \u001b[1;33m<\u001b[0m \u001b[1;36m10\u001b[0m\u001b[1;33m:\u001b[0m\u001b[1;33m\u001b[0m\u001b[1;33m\u001b[0m\u001b[0m\n\u001b[1;32m----> 8\u001b[1;33m         \u001b[0mcur\u001b[0m\u001b[1;33m.\u001b[0m\u001b[0mexecute\u001b[0m\u001b[1;33m(\u001b[0m\u001b[1;34m\"UPDATE addresses SET address = 'scored'\"\u001b[0m\u001b[1;33m)\u001b[0m\u001b[1;33m\u001b[0m\u001b[1;33m\u001b[0m\u001b[0m\n\u001b[0m\u001b[0;32m      9\u001b[0m         \u001b[0mcount\u001b[0m \u001b[1;33m+=\u001b[0m \u001b[1;36m1\u001b[0m\u001b[1;33m\u001b[0m\u001b[1;33m\u001b[0m\u001b[0m\n\u001b[0;32m     10\u001b[0m \u001b[1;33m\u001b[0m\u001b[0m\n",
      "\u001b[1;31mOperationalError\u001b[0m: database is locked"
     ]
    }
   ],
   "source": [
    "#UPDATE <table_name> SET <column_name> = <value> WHERE <condition>\n",
    "#UPDATE addresses SET address = \"scored\" WHERE <condition>\n",
    "\n",
    "count = 0\n",
    "table = cur.execute('SELECT * FROM addresses') \n",
    "for row in table:\n",
    "    while count < 10: \n",
    "        cur.execute(\"UPDATE addresses SET address = 'scored'\") \n",
    "        count += 1\n",
    "\n",
    "head = cur.execute(\"SELECT * FROM addresses LIMIT 20\")\n",
    "for row in head:\n",
    "    print(row)\n"
   ]
  },
  {
   "cell_type": "code",
   "execution_count": 9,
   "metadata": {},
   "outputs": [
    {
     "name": "stdout",
     "output_type": "stream",
     "text": [
      "48940\n"
     ]
    }
   ],
   "source": [
    "import csv\n",
    "import os\n",
    "\n",
    "address_dict =\t{}\n",
    "\n",
    "#compile list of Guelph addresses\n",
    "working_directory = os.getcwd()\n",
    "file_path = working_directory + '\\data\\guelphaddresses.csv'\n",
    "with open(file_path, encoding='utf-8') as file:\n",
    "    addresses = csv.reader(file)\n",
    "    next(addresses, None)\n",
    "\n",
    "    address_dict = {rows[0]:rows[0] for rows in addresses}\n",
    "\n",
    "print(len(address_dict))\n"
   ]
  },
  {
   "cell_type": "code",
   "execution_count": 22,
   "metadata": {},
   "outputs": [
    {
     "name": "stdout",
     "output_type": "stream",
     "text": [
      "1\n",
      "2\n",
      "3\n",
      "4\n",
      "5\n",
      "6\n",
      "7\n",
      "8\n",
      "9\n"
     ]
    }
   ],
   "source": [
    "count = 0 \n",
    "\n",
    "while count < 10:\n",
    "    for x in address_dict: print(address_dict[x])\n",
    "    count += 1"
   ]
  },
  {
   "cell_type": "code",
   "execution_count": 6,
   "metadata": {},
   "outputs": [],
   "source": [
    "import urllib\n",
    "import requests\n",
    "\n",
    "WALKSCORE_API = '04fddfaa38b9f6c957e2c1c950ab2524'\n",
    "address_to_fetch = urllib.parse.quote(\"202 Rickson Avenue Guelph ON\")\n",
    "\n",
    "url = 'https://nominatim.openstreetmap.org/search/' + address_to_fetch +'?format=json'\n",
    "\n",
    "response = requests.get(url).json()\n",
    "lat = response[0][\"lat\"]\n",
    "lon = response[0][\"lon\"]\n",
    "\n",
    "data_url = data_url = 'https://api.walkscore.com/score?format=json&address=' + address_to_fetch + '&lat=' + lat + '&lon=' + lon + '&transit=1&bike=1&wsapikey=' + WALKSCORE_API\n",
    "res = requests.get(url=data_url)\n",
    "response_data = res.json()\n"
   ]
  },
  {
   "cell_type": "code",
   "execution_count": 7,
   "metadata": {},
   "outputs": [
    {
     "name": "stdout",
     "output_type": "stream",
     "text": [
      "{'status': 1, 'walkscore': 26, 'description': 'Car-Dependent', 'updated': '2021-05-27 02:46:45.449085', 'logo_url': 'https://cdn.walk.sc/images/api-logo.png', 'more_info_icon': 'https://cdn.walk.sc/images/api-more-info.gif', 'more_info_link': 'https://www.redfin.com/how-walk-score-works', 'ws_link': 'https://www.walkscore.com/score/202-Rickson-Avenue-Guelph-ON/lat=43.512443/lng=-80.209961/?utm_source=https://johnallanach.github.io&utm_medium=ws_api&utm_campaign=ws_api', 'help_link': 'https://www.redfin.com/how-walk-score-works', 'snapped_lat': 43.512, 'snapped_lon': -80.2095, 'transit': {'score': None, 'description': None, 'summary': None}, 'bike': {'score': 63, 'description': 'Bikeable'}}\n"
     ]
    }
   ],
   "source": [
    "print(response_data)\n"
   ]
  },
  {
   "cell_type": "code",
   "execution_count": 8,
   "metadata": {},
   "outputs": [
    {
     "name": "stdout",
     "output_type": "stream",
     "text": [
      "1\n"
     ]
    }
   ],
   "source": [
    "status = response_data[\"status\"]\n",
    "print(status)"
   ]
  }
 ],
 "metadata": {
  "interpreter": {
   "hash": "962395eb9ca2e9cd795ed803993b48f85a0103051b5ede894df9ea95f5a86dfc"
  },
  "kernelspec": {
   "display_name": "Python 3.10.0 64-bit",
   "name": "python3"
  },
  "language_info": {
   "codemirror_mode": {
    "name": "ipython",
    "version": 3
   },
   "file_extension": ".py",
   "mimetype": "text/x-python",
   "name": "python",
   "nbconvert_exporter": "python",
   "pygments_lexer": "ipython3",
   "version": "3.10.0"
  },
  "orig_nbformat": 4
 },
 "nbformat": 4,
 "nbformat_minor": 2
}
